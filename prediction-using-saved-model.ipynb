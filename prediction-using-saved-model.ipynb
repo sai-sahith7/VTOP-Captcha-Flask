{
 "cells": [
  {
   "cell_type": "code",
   "execution_count": 2,
   "id": "a0a595a5",
   "metadata": {},
   "outputs": [],
   "source": [
    "import joblib\n",
    "import cv2\n",
    "import base64\n",
    "import numpy as np"
   ]
  },
  {
   "cell_type": "code",
   "execution_count": 3,
   "id": "e2ef8fdf",
   "metadata": {},
   "outputs": [],
   "source": [
    "model = joblib.load(\"captcha_model.pk1\")"
   ]
  },
  {
   "cell_type": "code",
   "execution_count": 4,
   "id": "679b6970",
   "metadata": {},
   "outputs": [],
   "source": [
    "def b64_to_image(b64):\n",
    "    b64_data = b64.split(',')[1]\n",
    "    image = np.frombuffer(base64.b64decode(b64_data), np.uint8)\n",
    "    image = cv2.imdecode(image, cv2.IMREAD_GRAYSCALE)\n",
    "    return image"
   ]
  },
  {
   "cell_type": "code",
   "execution_count": 6,
   "id": "5ece17ed",
   "metadata": {},
   "outputs": [
    {
     "data": {
      "text/plain": [
       "'6XY9YJ'"
      ]
     },
     "execution_count": 6,
     "metadata": {},
     "output_type": "execute_result"
    }
   ],
   "source": [
    "result = \"\"\n",
    "base64_url = \"data:image/png;base64, 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\"\n",
    "test_image = b64_to_image(base64_url)\n",
    "threshold, test_image = cv2.threshold(test_image,0.001,10**9,cv2.THRESH_BINARY)\n",
    "iterator = [0,30,60,90,120,150]\n",
    "for i in iterator:\n",
    "    temp_img = test_image[10:,i:i+25]\n",
    "    temp_img = temp_img.reshape(1,(temp_img.shape[0]*temp_img.shape[1]))\n",
    "    prediction = model.predict(temp_img)[0]\n",
    "    if prediction >= 10:\n",
    "        result += chr(prediction)\n",
    "    else:\n",
    "        result += str(prediction)\n",
    "result"
   ]
  },
  {
   "cell_type": "code",
   "execution_count": null,
   "id": "10be0769",
   "metadata": {},
   "outputs": [],
   "source": []
  }
 ],
 "metadata": {
  "kernelspec": {
   "display_name": "Python 3 (ipykernel)",
   "language": "python",
   "name": "python3"
  },
  "language_info": {
   "codemirror_mode": {
    "name": "ipython",
    "version": 3
   },
   "file_extension": ".py",
   "mimetype": "text/x-python",
   "name": "python",
   "nbconvert_exporter": "python",
   "pygments_lexer": "ipython3",
   "version": "3.9.7"
  }
 },
 "nbformat": 4,
 "nbformat_minor": 5
}
