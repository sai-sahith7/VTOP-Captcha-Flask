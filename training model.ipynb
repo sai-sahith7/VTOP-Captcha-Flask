{
 "cells": [
  {
   "cell_type": "code",
   "execution_count": 56,
   "id": "dc174337",
   "metadata": {},
   "outputs": [],
   "source": [
    "import os\n",
    "import numpy as np\n",
    "import cv2\n",
    "from sklearn.svm import SVC\n",
    "from sklearn.model_selection import train_test_split"
   ]
  },
  {
   "cell_type": "code",
   "execution_count": 57,
   "id": "4b366ade",
   "metadata": {},
   "outputs": [],
   "source": [
    "def ydata(string):\n",
    "    character = string.split(\"\\\\\")[-1]\n",
    "    if character.isdigit():\n",
    "        return int(character)\n",
    "    else:\n",
    "        return ord(character)\n",
    "# \"D:\\\\Python Programs\\\\Projects\\\\ML Captcha\\\\dataset\\\\1\""
   ]
  },
  {
   "cell_type": "code",
   "execution_count": 58,
   "id": "001cbc1b",
   "metadata": {},
   "outputs": [],
   "source": [
    "character_folders = list()\n",
    "X = list()\n",
    "Y = list()\n",
    "for folder in os.scandir(\"D:\\\\Pyhton Programs\\\\Projects\\\\ML Captcha\\\\dataset\"):\n",
    "    if folder.is_dir():\n",
    "        folder_path = folder.path\n",
    "        character_folders.append(folder_path)\n",
    "        for image in os.scandir(folder_path):\n",
    "            Y.append(ydata(folder_path))\n",
    "            img = cv2.imread(image.path,1)\n",
    "            threshold , img1 = cv2.threshold(img,0.001,10**9,cv2.THRESH_BINARY)\n",
    "            img1 = cv2.cvtColor(img1, cv2.COLOR_BGR2GRAY)\n",
    "            X.append(img1)\n",
    "X = np.array(X)\n",
    "X = X.reshape(len(X),(len(X[0])*len(X[0][0])))"
   ]
  },
  {
   "cell_type": "code",
   "execution_count": 59,
   "id": "7efda343",
   "metadata": {},
   "outputs": [
    {
     "data": {
      "text/plain": [
       "SVC()"
      ]
     },
     "execution_count": 59,
     "metadata": {},
     "output_type": "execute_result"
    }
   ],
   "source": [
    "model = SVC()\n",
    "model.fit(X,Y)"
   ]
  },
  {
   "cell_type": "code",
   "execution_count": 60,
   "id": "1778bfe4",
   "metadata": {},
   "outputs": [
    {
     "data": {
      "text/plain": [
       "'VYCZR4'"
      ]
     },
     "execution_count": 60,
     "metadata": {},
     "output_type": "execute_result"
    }
   ],
   "source": [
    "result = \"\"\n",
    "test_image = cv2.imread(\"download.png\")\n",
    "threshold, test_image = cv2.threshold(test_image,0.001,10**9,cv2.THRESH_BINARY)\n",
    "iterator = [0,30,60,90,120,150]\n",
    "for i in iterator:\n",
    "    temp_img = test_image[10:,i:i+25]\n",
    "    temp_img = np.array([cv2.cvtColor(temp_img, cv2.COLOR_BGR2GRAY)])\n",
    "    temp_img = temp_img.reshape(len(temp_img),(len(temp_img[0])*len(temp_img[0][0])))\n",
    "    prediction = model.predict([temp_img[0]])[0]\n",
    "    if prediction >= 10:\n",
    "        result += chr(prediction)\n",
    "    else:\n",
    "        result += str(prediction)\n",
    "result"
   ]
  },
  {
   "cell_type": "code",
   "execution_count": null,
   "id": "127423c2",
   "metadata": {},
   "outputs": [],
   "source": []
  }
 ],
 "metadata": {
  "kernelspec": {
   "display_name": "Python 3 (ipykernel)",
   "language": "python",
   "name": "python3"
  },
  "language_info": {
   "codemirror_mode": {
    "name": "ipython",
    "version": 3
   },
   "file_extension": ".py",
   "mimetype": "text/x-python",
   "name": "python",
   "nbconvert_exporter": "python",
   "pygments_lexer": "ipython3",
   "version": "3.9.7"
  }
 },
 "nbformat": 4,
 "nbformat_minor": 5
}
